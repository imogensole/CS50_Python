{
 "cells": [
  {
   "cell_type": "markdown",
   "metadata": {},
   "source": [
    "# Libraries \n",
    "\n",
    "* Files of code that can be reused in other programmes \n",
    "* **module** = a library with one or more function included in it\n",
    "    * encourages reusability of code \n",
    "* python includes some modules during installation \n",
    "    * **random** = allows you to generate random variable outputs \n",
    "* **import** = allows you to import a certain module into your workspace \n"
   ]
  },
  {
   "cell_type": "code",
   "execution_count": 17,
   "metadata": {},
   "outputs": [
    {
     "name": "stdout",
     "output_type": "stream",
     "text": [
      "tails\n"
     ]
    }
   ],
   "source": [
    "# Practicing using random library \n",
    "\n",
    "# Imports the random package \n",
    "import random \n",
    "\n",
    "# uses choice function to randomly select an item from the list \n",
    "coin = random.choice([\"heads\", \"tails\"])\n",
    "\n",
    "# prints the output \n",
    "print(coin)"
   ]
  },
  {
   "cell_type": "markdown",
   "metadata": {},
   "source": [
    "## from \n",
    "\n",
    "* Keyword in python that allows you to be more specific when importing functions from a package "
   ]
  },
  {
   "cell_type": "code",
   "execution_count": 18,
   "metadata": {},
   "outputs": [
    {
     "name": "stdout",
     "output_type": "stream",
     "text": [
      "heads\n"
     ]
    }
   ],
   "source": [
    "# Imports the choice function from random package \n",
    "from random import choice\n",
    "\n",
    "# can then just use the choice function without the prefix random \n",
    "coin = choice([\"heads\", \"tails\"])\n",
    "\n",
    "# prints the output \n",
    "print(coin)"
   ]
  },
  {
   "cell_type": "code",
   "execution_count": 19,
   "metadata": {},
   "outputs": [
    {
     "name": "stdout",
     "output_type": "stream",
     "text": [
      "2\n"
     ]
    }
   ],
   "source": [
    "# The randint function \n",
    "\n",
    "# imports random package \n",
    "import random \n",
    "\n",
    "# selects a random integer between 1 and 10 \n",
    "number = random.randint(1,10)\n",
    "\n",
    "# prints the number \n",
    "print(number)"
   ]
  },
  {
   "cell_type": "code",
   "execution_count": 23,
   "metadata": {},
   "outputs": [
    {
     "name": "stdout",
     "output_type": "stream",
     "text": [
      "queen\n",
      "king\n",
      "jack\n"
     ]
    }
   ],
   "source": [
    "# Shuffle function\n",
    "\n",
    "# import random package\n",
    "import random \n",
    "\n",
    "# create deck of cards \n",
    "cards = [\"jack\", \"queen\", \"king\"]\n",
    "\n",
    "# shuffle the list \n",
    "random.shuffle(cards)\n",
    "\n",
    "# prints the new order \n",
    "for card in cards: \n",
    "    print(card)"
   ]
  },
  {
   "cell_type": "markdown",
   "metadata": {},
   "source": [
    "## Statistics \n",
    "\n",
    "* Module in python for conducting statistical functions"
   ]
  },
  {
   "cell_type": "code",
   "execution_count": 25,
   "metadata": {},
   "outputs": [
    {
     "name": "stdout",
     "output_type": "stream",
     "text": [
      "95\n"
     ]
    }
   ],
   "source": [
    "# Import the statistics function\n",
    "import statistics \n",
    "\n",
    "# using the mean function \n",
    "print(statistics.mean([100, 90]))"
   ]
  },
  {
   "cell_type": "markdown",
   "metadata": {},
   "source": [
    "## Command-line arguments \n",
    "\n",
    "* allows you to input arguments in the command line\n",
    "* these inputs can be accessed using the sys package\n",
    "* sys.argv = stores all of the inputs as a list"
   ]
  },
  {
   "cell_type": "code",
   "execution_count": 26,
   "metadata": {},
   "outputs": [
    {
     "name": "stdout",
     "output_type": "stream",
     "text": [
      "Hello, my name is --ip=127.0.0.1\n"
     ]
    }
   ],
   "source": [
    "# Import the sys package \n",
    "import sys\n",
    "\n",
    "# If you run this using the terminal, you can add the argument in the command line\n",
    "# NOTE: the 0 element of the list will be the name of the file you are executing\n",
    "print(\"Hello, my name is\", sys.argv[1])"
   ]
  },
  {
   "cell_type": "markdown",
   "metadata": {},
   "source": [
    "## sys.exit \n",
    "\n",
    "* Allows you to exit code early if an exception occurs "
   ]
  },
  {
   "cell_type": "code",
   "execution_count": null,
   "metadata": {},
   "outputs": [],
   "source": [
    "# Import the sys package \n",
    "import sys\n",
    "\n",
    "# Check for errors\n",
    "# Doing this as a separate code to main code makes better design \n",
    "if len(sys.argv) < 2:\n",
    "    # What happens if the user doesn't input their name\n",
    "    sys.exit(\"too few arguments\")\n",
    "elif len(sys.argv) > 2: \n",
    "    # What happens if the user puts in more than one name \n",
    "    sys.exit(\"too many arguments\")\n",
    "\n",
    "# Print name tags\n",
    "# If you run this in the terminal, can include name in the command line\n",
    "print(\"Hello, my name is\", sys.argv[1])"
   ]
  },
  {
   "cell_type": "markdown",
   "metadata": {},
   "source": [
    "## Packages \n",
    "\n",
    "* third party libraries that you can install \n",
    "* **PyPI** = the python package index \n",
    "    * website that allows you to download and install variety of packages \n",
    "* **pip** = allows you to install packages by running command \n",
    "    * Can install a package by running pip install ... in the command \n",
    "\n",
    "### Cowsay \n",
    "* package that allows you to make a cow say something\n",
    "* see cow.py for example\n",
    "\n",
    "### APIs\n",
    "* **Application Programming Interface** = an external third-party service that your code can connect to \n",
    "    * can then incorporate data into your code \n",
    "* **requests** = package that is used to interact with APIs\n",
    "    * see itunes.py for an example\n",
    "\n",
    "* JSON (JavaScript Object Notation) = a file type used to exchange data between objects "
   ]
  }
 ],
 "metadata": {
  "kernelspec": {
   "display_name": "Python 3",
   "language": "python",
   "name": "python3"
  },
  "language_info": {
   "codemirror_mode": {
    "name": "ipython",
    "version": 3
   },
   "file_extension": ".py",
   "mimetype": "text/x-python",
   "name": "python",
   "nbconvert_exporter": "python",
   "pygments_lexer": "ipython3",
   "version": "3.11.4"
  },
  "orig_nbformat": 4
 },
 "nbformat": 4,
 "nbformat_minor": 2
}
