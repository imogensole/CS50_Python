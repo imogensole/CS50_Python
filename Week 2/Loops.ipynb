{
 "cells": [
  {
   "cell_type": "markdown",
   "metadata": {},
   "source": [
    "# Loops "
   ]
  },
  {
   "cell_type": "code",
   "execution_count": 1,
   "metadata": {},
   "outputs": [
    {
     "name": "stdout",
     "output_type": "stream",
     "text": [
      "meow\n",
      "meow\n",
      "meow\n"
     ]
    }
   ],
   "source": [
    "# Goal: create a cat programme that meows three times \n",
    "\n",
    "print(\"meow\")\n",
    "print(\"meow\")\n",
    "print(\"meow\")\n",
    "\n",
    "# Why is this code poorly designed?\n",
    "# The code is repetitive - the same line is repeated three times "
   ]
  },
  {
   "cell_type": "markdown",
   "metadata": {},
   "source": [
    "## while\n",
    "\n",
    "* Allows you to ask a question multiple times"
   ]
  },
  {
   "cell_type": "code",
   "execution_count": 3,
   "metadata": {},
   "outputs": [
    {
     "name": "stdout",
     "output_type": "stream",
     "text": [
      "meow\n",
      "meow\n",
      "meow\n"
     ]
    }
   ],
   "source": [
    "# Create a count variable to monitor the progression of the loop\n",
    "count = 0 \n",
    "\n",
    "# Checks while condition\n",
    "while count < 3: \n",
    "    # Code runs if condition still true\n",
    "    print(\"meow\")\n",
    "    # Updates the count value by adding 1\n",
    "    count += 1"
   ]
  },
  {
   "cell_type": "markdown",
   "metadata": {},
   "source": [
    "## for loops \n",
    "\n",
    "* Allows you to iterate over a list "
   ]
  },
  {
   "cell_type": "code",
   "execution_count": 2,
   "metadata": {},
   "outputs": [
    {
     "name": "stdout",
     "output_type": "stream",
     "text": [
      "meow\n",
      "meow\n",
      "meow\n"
     ]
    }
   ],
   "source": [
    "# iterates over the numbers 0, 1, 2\n",
    "for i in [0, 1, 2]:\n",
    "    # Code carried out at each iteration \n",
    "    print(\"meow\")\n",
    "\n",
    "# What's the problem with this code? \n",
    "    # If you wanted to increase the number of times your code \n",
    "    # was carried out, would need to list long list of numbers "
   ]
  },
  {
   "cell_type": "code",
   "execution_count": 3,
   "metadata": {},
   "outputs": [
    {
     "name": "stdout",
     "output_type": "stream",
     "text": [
      "meow\n",
      "meow\n",
      "meow\n"
     ]
    }
   ],
   "source": [
    "# Improvements - range functions \n",
    "# we use _ to represent a lobel that is not necessary for use later \n",
    "# in the code \n",
    "\n",
    "# iterates over the numbers 0, 1, 2\n",
    "for _ in range(3):\n",
    "    # Code carried out at each iteration \n",
    "    print(\"meow\")"
   ]
  },
  {
   "cell_type": "code",
   "execution_count": 7,
   "metadata": {},
   "outputs": [
    {
     "name": "stdout",
     "output_type": "stream",
     "text": [
      "meow\n",
      "meow\n",
      "meow\n"
     ]
    }
   ],
   "source": [
    "# Can make the code even more succinct \n",
    "print(\"meow\\n\" * 3, end=\"\")"
   ]
  },
  {
   "cell_type": "code",
   "execution_count": 9,
   "metadata": {},
   "outputs": [
    {
     "name": "stdout",
     "output_type": "stream",
     "text": [
      "meow\n",
      "meow\n",
      "meow\n",
      "meow\n"
     ]
    }
   ],
   "source": [
    "# ask the user for a number \n",
    "\n",
    "n = int(input(\"What's n?\"))\n",
    "\n",
    "# Checks the integer input is > 0\n",
    "while True: \n",
    "    n = int(input(\"What's n?\"))\n",
    "    if n > 0: \n",
    "        break \n",
    "\n",
    "# iterates over the numbers 0, 1, 2\n",
    "for _ in range(n):\n",
    "    # Code carried out at each iteration \n",
    "    print(\"meow\")"
   ]
  },
  {
   "cell_type": "code",
   "execution_count": 12,
   "metadata": {},
   "outputs": [
    {
     "name": "stdout",
     "output_type": "stream",
     "text": [
      "meow\n",
      "meow\n",
      "meow\n"
     ]
    }
   ],
   "source": [
    "# Creating a function \n",
    "\n",
    "# Create main code section\n",
    "def main():\n",
    "    number = get_number()\n",
    "    meow(number)\n",
    "\n",
    "# Define the meow function  \n",
    "def meow(n):\n",
    "    for _ in range(n): \n",
    "        print(\"meow\")\n",
    "\n",
    "# define function to get number from user \n",
    "def get_number():\n",
    "    while True: \n",
    "        n = int(input(\"What's n?\"))\n",
    "        if n > 0: \n",
    "            return n \n",
    "        \n",
    "# Runs main code \n",
    "main()"
   ]
  },
  {
   "cell_type": "markdown",
   "metadata": {},
   "source": [
    "## Lists "
   ]
  },
  {
   "cell_type": "code",
   "execution_count": 15,
   "metadata": {},
   "outputs": [
    {
     "name": "stdout",
     "output_type": "stream",
     "text": [
      "Hermione\n",
      "Harry\n",
      "Ron\n"
     ]
    }
   ],
   "source": [
    "# Create a list of names \n",
    "students = [\"Hermione\", \"Harry\", \"Ron\"]\n",
    "\n",
    "# iterates over each element of the student list \n",
    "for student in students:\n",
    "    # prints element of student list \n",
    "    print(student)"
   ]
  },
  {
   "cell_type": "markdown",
   "metadata": {},
   "source": [
    "## len"
   ]
  },
  {
   "cell_type": "code",
   "execution_count": 16,
   "metadata": {},
   "outputs": [
    {
     "name": "stdout",
     "output_type": "stream",
     "text": [
      "Hermione\n",
      "Harry\n",
      "Ron\n"
     ]
    }
   ],
   "source": [
    "# iterates over numbers up to the length of students list \n",
    "for i in range(len(students)):\n",
    "    # prints element i of students\n",
    "    print(students[i])"
   ]
  },
  {
   "cell_type": "code",
   "execution_count": 17,
   "metadata": {},
   "outputs": [
    {
     "name": "stdout",
     "output_type": "stream",
     "text": [
      "1 Hermione\n",
      "2 Harry\n",
      "3 Ron\n"
     ]
    }
   ],
   "source": [
    "# iterates over numbers up to the length of students list \n",
    "for i in range(len(students)):\n",
    "    # prints element i of students\n",
    "    # also enumerates each of the students \n",
    "    print(i+1, students[i])"
   ]
  },
  {
   "cell_type": "markdown",
   "metadata": {},
   "source": [
    "## dict\n",
    "\n",
    "* Data structure that allows you to associate one value with another \n",
    "* Dictionary contains a mapping of **keys** to **values**\n"
   ]
  },
  {
   "cell_type": "code",
   "execution_count": 21,
   "metadata": {},
   "outputs": [
    {
     "name": "stdout",
     "output_type": "stream",
     "text": [
      "Gryffindor\n",
      "Hermione\n",
      "Harry\n",
      "Ron\n",
      "Draco\n"
     ]
    }
   ],
   "source": [
    "# Create a dictionary of Hogwarts houses \n",
    "    # Keys = student names \n",
    "    # Values = Hogwarts house \n",
    "houses = {\n",
    "        \"Hermione\" : \"Gryffindor\", \n",
    "        \"Harry\" : \"Gryffindor\", \n",
    "        \"Ron\" : \"Gryffindor\", \n",
    "        \"Draco\" : \"Slytherin\"\n",
    "        }\n",
    "\n",
    "# Can extract elements of a dictionary using the key \n",
    "print(houses[\"Hermione\"])\n",
    "\n",
    "# If you iterate over elements of a dictionary, will print the key \n",
    "for house in houses: \n",
    "    print(house)\n"
   ]
  },
  {
   "cell_type": "code",
   "execution_count": 24,
   "metadata": {},
   "outputs": [
    {
     "name": "stdout",
     "output_type": "stream",
     "text": [
      "Hermione, Gryffindor\n",
      "Harry, Gryffindor\n",
      "Ron, Gryffindor\n",
      "Draco, Slytherin\n"
     ]
    }
   ],
   "source": [
    "# If you iterate over elements of a dictionary, will print the key \n",
    "# Can print the value by indexing the dictionary using the key \n",
    "for house in houses: \n",
    "    print(house, houses[house], sep=\", \")"
   ]
  },
  {
   "cell_type": "markdown",
   "metadata": {},
   "source": [
    "## Lists of Dictionaries"
   ]
  },
  {
   "cell_type": "code",
   "execution_count": 26,
   "metadata": {},
   "outputs": [],
   "source": [
    "# Can create a list containing multiple dictionaries \n",
    "students = [\n",
    "    {\"name\": \"Hermione\", \"house\": \"Gryffindor\", \"patronus\": \"otter\"}, \n",
    "    {\"name\": \"Harry\", \"house\": \"Gryffindor\", \"patronus\": \"stag\"}, \n",
    "    {\"name\": \"Ron\", \"house\": \"Gryffindor\", \"patronus\": \"Jack Russel Terrier\"}, \n",
    "    {\"name\": \"Draco\", \"house\": \"Gryffindor\", \"patronus\": None}\n",
    "]"
   ]
  },
  {
   "cell_type": "code",
   "execution_count": 28,
   "metadata": {},
   "outputs": [
    {
     "name": "stdout",
     "output_type": "stream",
     "text": [
      "Hermione, Gryffindor, otter\n",
      "Harry, Gryffindor, stag\n",
      "Ron, Gryffindor, Jack Russel Terrier\n",
      "Draco, Gryffindor, None\n"
     ]
    }
   ],
   "source": [
    "for student in students:\n",
    "    print(student[\"name\"], student[\"house\"], student[\"patronus\"], sep=\", \")"
   ]
  },
  {
   "cell_type": "markdown",
   "metadata": {},
   "source": [
    "## Mario \n",
    "\n",
    "Goal: create a column of three # symbols on top of one another "
   ]
  },
  {
   "cell_type": "code",
   "execution_count": 29,
   "metadata": {},
   "outputs": [
    {
     "name": "stdout",
     "output_type": "stream",
     "text": [
      "#\n",
      "#\n",
      "#\n"
     ]
    }
   ],
   "source": [
    "for _ in range(3): \n",
    "    print(\"#\")"
   ]
  },
  {
   "cell_type": "code",
   "execution_count": 36,
   "metadata": {},
   "outputs": [
    {
     "name": "stdout",
     "output_type": "stream",
     "text": [
      "#\n",
      "#\n",
      "#\n",
      "???\n"
     ]
    }
   ],
   "source": [
    "# Converting this into a function \n",
    "\n",
    "# Main code \n",
    "def main():\n",
    "    print_column(3)\n",
    "    print_row(3)\n",
    "\n",
    "# Function to print column of height h\n",
    "def print_column(h):\n",
    "    for _ in range(h):\n",
    "        print(\"#\")\n",
    "\n",
    "# Function to print horizontal block of length w\n",
    "def print_row(w):\n",
    "    print(\"?\" * w)\n",
    "\n",
    "# runs main code \n",
    "main()"
   ]
  },
  {
   "cell_type": "code",
   "execution_count": 43,
   "metadata": {},
   "outputs": [
    {
     "name": "stdout",
     "output_type": "stream",
     "text": [
      "####\n",
      "####\n",
      "####\n",
      "####\n"
     ]
    }
   ],
   "source": [
    "# creating an n x n grid\n",
    "\n",
    "def grid(h, w): \n",
    "    # iterates over each row \n",
    "    for i in range(h): \n",
    "\n",
    "        # iterates over each column \n",
    "        for j in range(w):\n",
    "\n",
    "            # prints brick\n",
    "            print(\"#\", end=\"\")\n",
    "        \n",
    "        # starts new line\n",
    "        print()\n",
    "\n",
    "grid(4, 4)\n"
   ]
  },
  {
   "cell_type": "code",
   "execution_count": 46,
   "metadata": {},
   "outputs": [
    {
     "name": "stdout",
     "output_type": "stream",
     "text": [
      "####\n",
      "####\n",
      "####\n",
      "####\n"
     ]
    }
   ],
   "source": [
    "# Improvements...\n",
    "\n",
    "# creating an n x n grid\n",
    "\n",
    "def grid(h, w): \n",
    "    # iterates over each row \n",
    "    for i in range(h):\n",
    "            # prints a row of blocks of the specified width\n",
    "            print(\"#\"*w)\n",
    "\n",
    "grid(4, 4)"
   ]
  }
 ],
 "metadata": {
  "kernelspec": {
   "display_name": "Python 3",
   "language": "python",
   "name": "python3"
  },
  "language_info": {
   "codemirror_mode": {
    "name": "ipython",
    "version": 3
   },
   "file_extension": ".py",
   "mimetype": "text/x-python",
   "name": "python",
   "nbconvert_exporter": "python",
   "pygments_lexer": "ipython3",
   "version": "3.11.4"
  },
  "orig_nbformat": 4
 },
 "nbformat": 4,
 "nbformat_minor": 2
}
