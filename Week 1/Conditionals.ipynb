{
 "cells": [
  {
   "cell_type": "markdown",
   "metadata": {},
   "source": [
    "# Conditionals \n",
    "\n",
    "* Determine what code is run based on answer to a question \n",
    "    * >, >=, <, <=, ==, !=\n",
    "\n",
    "## Comparisons\n",
    "\n",
    "### if statements "
   ]
  },
  {
   "cell_type": "code",
   "execution_count": 7,
   "metadata": {},
   "outputs": [
    {
     "name": "stdout",
     "output_type": "stream",
     "text": [
      "x is less than y\n"
     ]
    }
   ],
   "source": [
    "# Allow user to input values for x and y\n",
    "x = int(input(\"What's x?\"))\n",
    "y = int(input(\"What's y?\"))\n",
    "\n",
    "# defines an if statement, code will run is the x < y condition is true \n",
    "if x < y: \n",
    "    # prints phrase \n",
    "    print(\"x is less than y\")\n",
    "\n",
    "# Defines second if statement, code will run if x > y is true\n",
    "if x > y:\n",
    "    print(\"x is greater than y\")\n",
    "\n",
    "# Defines third if statement, code runs if x = y is true \n",
    "# NOTE: Equality is represented by \"==\"\n",
    "if x == y:\n",
    "    print(\"x equals y\")"
   ]
  },
  {
   "cell_type": "markdown",
   "metadata": {},
   "source": [
    "### elif"
   ]
  },
  {
   "cell_type": "code",
   "execution_count": 8,
   "metadata": {},
   "outputs": [
    {
     "name": "stdout",
     "output_type": "stream",
     "text": [
      "x equals y\n"
     ]
    }
   ],
   "source": [
    "# Allow user to input values for x and y\n",
    "x = int(input(\"What's x?\"))\n",
    "y = int(input(\"What's y?\"))\n",
    "\n",
    "# Can make the above code more concise by using elif statements instead of ifs\n",
    "# The code will only continue to run if the previous conditions are false  \n",
    "# defines an if and elif statements\n",
    "if x < y: \n",
    "    print(\"x is less than y\")\n",
    "elif x > y:\n",
    "    print(\"x is greater than y\")\n",
    "elif x == y:\n",
    "    print(\"x equals y\")"
   ]
  },
  {
   "cell_type": "markdown",
   "metadata": {},
   "source": [
    "### else "
   ]
  },
  {
   "cell_type": "code",
   "execution_count": 9,
   "metadata": {},
   "outputs": [
    {
     "name": "stdout",
     "output_type": "stream",
     "text": [
      "x equals y\n"
     ]
    }
   ],
   "source": [
    "# Allow user to input values for x and y\n",
    "x = int(input(\"What's x?\"))\n",
    "y = int(input(\"What's y?\"))\n",
    "\n",
    "# Can make the above code more concise by using else as the last condition \n",
    "# Mathematically, if x < y and x > y  both false then we don't need to explicitly verify \n",
    "# equality condition\n",
    "\n",
    "if x < y: \n",
    "    print(\"x is less than y\")\n",
    "elif x > y:\n",
    "    print(\"x is greater than y\")\n",
    "else:\n",
    "    print(\"x equals y\")"
   ]
  },
  {
   "cell_type": "markdown",
   "metadata": {},
   "source": [
    "### or"
   ]
  },
  {
   "cell_type": "code",
   "execution_count": 10,
   "metadata": {},
   "outputs": [
    {
     "name": "stdout",
     "output_type": "stream",
     "text": [
      "x is equal to y\n"
     ]
    }
   ],
   "source": [
    "# Allow user to input values for x and y\n",
    "x = int(input(\"What's x?\"))\n",
    "y = int(input(\"What's y?\"))\n",
    "\n",
    "# Can combine conditional statements using \"or\"\n",
    "if x < y or x > y:\n",
    "    print(\"x is not equal to y\")\n",
    "else: \n",
    "    print(\"x is equal to y\")"
   ]
  },
  {
   "cell_type": "code",
   "execution_count": null,
   "metadata": {},
   "outputs": [],
   "source": [
    "# Allow user to input values for x and y\n",
    "x = int(input(\"What's x?\"))\n",
    "y = int(input(\"What's y?\"))\n",
    "\n",
    "# Can improve this by removing the or \n",
    "if x != y:\n",
    "    print(\"x is not equal to y\")\n",
    "else: \n",
    "    print(\"x is equal to y\")"
   ]
  },
  {
   "cell_type": "markdown",
   "metadata": {},
   "source": [
    "### and"
   ]
  },
  {
   "cell_type": "code",
   "execution_count": 11,
   "metadata": {},
   "outputs": [
    {
     "name": "stdout",
     "output_type": "stream",
     "text": [
      "Grade B\n"
     ]
    }
   ],
   "source": [
    "score = int(input(\"Score: \"))\n",
    "\n",
    "if score >= 90 and score <= 100: \n",
    "    print(\"Grade A\")\n",
    "elif score >= 80 and score < 90:\n",
    "    print(\"Grade B\")\n",
    "elif score >= 70 and score < 80:\n",
    "    print(\"Grade C\")\n",
    "elif score >= 60 and score < 70:\n",
    "    print(\"Grade D\")\n",
    "else:\n",
    "    print(\"Grade F\")\n"
   ]
  },
  {
   "cell_type": "code",
   "execution_count": 12,
   "metadata": {},
   "outputs": [
    {
     "name": "stdout",
     "output_type": "stream",
     "text": [
      "Grade D\n"
     ]
    }
   ],
   "source": [
    "# Improving the code \n",
    "\n",
    "score = int(input(\"Score: \"))\n",
    "\n",
    "if score > 100: \n",
    "    print(\"Invalid score\")\n",
    "elif 90 <= score: \n",
    "    print(\"Grade A\")\n",
    "elif 80 <= score:\n",
    "    print(\"Grade B\")\n",
    "elif 70 <= score:\n",
    "    print(\"Grade C\")\n",
    "elif 60 <= score:\n",
    "    print(\"Grade D\")\n",
    "else:\n",
    "    print(\"Grade F\")"
   ]
  },
  {
   "cell_type": "markdown",
   "metadata": {},
   "source": [
    "### Modulo (%)"
   ]
  },
  {
   "cell_type": "code",
   "execution_count": 15,
   "metadata": {},
   "outputs": [
    {
     "name": "stdout",
     "output_type": "stream",
     "text": [
      "x is even\n"
     ]
    }
   ],
   "source": [
    "# Parity = whether a number is even or odd\n",
    "\n",
    "x = int(input(\"What's x?\"))\n",
    "\n",
    "# Checks whether a number inputted by the user is even or odd \n",
    "if x % 2 == 0:\n",
    "    print(\"x is even\")\n",
    "else: \n",
    "    print(\"x is odd\")"
   ]
  },
  {
   "cell_type": "markdown",
   "metadata": {},
   "source": [
    "### Booleans \n",
    "\n",
    "* Boolean variable takes either a \"True\" or \"False\" value "
   ]
  },
  {
   "cell_type": "code",
   "execution_count": 16,
   "metadata": {},
   "outputs": [
    {
     "name": "stdout",
     "output_type": "stream",
     "text": [
      "even\n"
     ]
    }
   ],
   "source": [
    "# Making this into a function \n",
    "\n",
    "# Defines the main code \n",
    "def main():\n",
    "    # Lets user input x value\n",
    "    x = int(input(\"What's x?\"))\n",
    "\n",
    "    # Checks if x is even using our function\n",
    "    if is_even(x):\n",
    "        print(\"even\")\n",
    "    else:\n",
    "        print(\"odd\")\n",
    "\n",
    "# Defines function to check if integer is even\n",
    "def is_even(n): \n",
    "    if n % 2 == 0:\n",
    "        return True \n",
    "    else:\n",
    "        return False\n",
    "    \n",
    "# Runs the main code \n",
    "main()"
   ]
  },
  {
   "cell_type": "code",
   "execution_count": 18,
   "metadata": {},
   "outputs": [
    {
     "name": "stdout",
     "output_type": "stream",
     "text": [
      "even\n"
     ]
    }
   ],
   "source": [
    "# Improving the code  \n",
    "\n",
    "# Defines the main code \n",
    "def main():\n",
    "    # Lets user input x value\n",
    "    x = int(input(\"What's x?\"))\n",
    "\n",
    "    # Checks if x is even using our function\n",
    "    if is_even(x):\n",
    "        print(\"even\")\n",
    "    else:\n",
    "        print(\"odd\")\n",
    "\n",
    "# Defines function to check if integer is even\n",
    "def is_even(n): \n",
    "    # This condition will return a boolean => can remove the if else statement \n",
    "    return n % 2 == 0\n",
    "    \n",
    "# Runs the main code \n",
    "main()"
   ]
  },
  {
   "cell_type": "markdown",
   "metadata": {},
   "source": [
    "### match "
   ]
  },
  {
   "cell_type": "code",
   "execution_count": 19,
   "metadata": {},
   "outputs": [
    {
     "name": "stdout",
     "output_type": "stream",
     "text": [
      "Gryffindor\n"
     ]
    }
   ],
   "source": [
    "# Takes input name from user \n",
    "name = input(\"What's your name?\")\n",
    "\n",
    "# Prints hogwarts house of name inputted \n",
    "if name == \"Harry\": \n",
    "    print(\"Gryffindor\")\n",
    "elif name == \"Hermione\": \n",
    "    print(\"Gryffindor\")\n",
    "elif name == \"Ron\": \n",
    "    print(\"Gryffindor\")\n",
    "elif name == \"Draco\": \n",
    "    print(\"Slytherin\")\n",
    "else: \n",
    "    print(\"Who?\")"
   ]
  },
  {
   "cell_type": "code",
   "execution_count": 20,
   "metadata": {},
   "outputs": [
    {
     "name": "stdout",
     "output_type": "stream",
     "text": [
      "Gryffindor\n"
     ]
    }
   ],
   "source": [
    "# Improvements...\n",
    "\n",
    "# Takes input name from user \n",
    "name = input(\"What's your name?\")\n",
    "\n",
    "# Prints hogwarts house of name inputted \n",
    "if name == \"Harry\" or name == \"Hermione\" or name == \"Ron\": \n",
    "    print(\"Gryffindor\")\n",
    "elif name == \"Draco\": \n",
    "    print(\"Slytherin\")\n",
    "else: \n",
    "    print(\"Who?\")"
   ]
  },
  {
   "cell_type": "code",
   "execution_count": 22,
   "metadata": {},
   "outputs": [
    {
     "name": "stdout",
     "output_type": "stream",
     "text": [
      "Who?\n"
     ]
    }
   ],
   "source": [
    "# Using match\n",
    "\n",
    "# Takes input name from user \n",
    "name = input(\"What's your name?\")\n",
    "\n",
    "match name: \n",
    "    case \"Harry\": \n",
    "        print(\"Gryffindor\")\n",
    "    case \"Ron\": \n",
    "        print(\"Gryffindor\")\n",
    "    case \"Hermione\": \n",
    "        print(\"Gryffindor\")\n",
    "    case \"Draco\": \n",
    "        print(\"Slytherin\")\n",
    "    # Deals with any case not already considered \n",
    "    case _:\n",
    "        print(\"Who?\")"
   ]
  },
  {
   "cell_type": "code",
   "execution_count": 23,
   "metadata": {},
   "outputs": [
    {
     "name": "stdout",
     "output_type": "stream",
     "text": [
      "Gryffindor\n"
     ]
    }
   ],
   "source": [
    "# Improvements...\n",
    "\n",
    "# Takes input name from user \n",
    "name = input(\"What's your name?\")\n",
    "\n",
    "match name: \n",
    "    # Can use | to represent or \n",
    "    case \"Harry\" | \"Hermione\" | \"Ron\": \n",
    "        print(\"Gryffindor\")\n",
    "    case \"Draco\": \n",
    "        print(\"Slytherin\")\n",
    "    # Deals with any case not already considered \n",
    "    case _:\n",
    "        print(\"Who?\")"
   ]
  }
 ],
 "metadata": {
  "kernelspec": {
   "display_name": "Python 3",
   "language": "python",
   "name": "python3"
  },
  "language_info": {
   "codemirror_mode": {
    "name": "ipython",
    "version": 3
   },
   "file_extension": ".py",
   "mimetype": "text/x-python",
   "name": "python",
   "nbconvert_exporter": "python",
   "pygments_lexer": "ipython3",
   "version": "3.11.4"
  },
  "orig_nbformat": 4
 },
 "nbformat": 4,
 "nbformat_minor": 2
}
