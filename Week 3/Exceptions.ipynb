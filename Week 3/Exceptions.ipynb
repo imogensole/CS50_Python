{
 "cells": [
  {
   "cell_type": "markdown",
   "metadata": {},
   "source": [
    "# Exceptions"
   ]
  },
  {
   "cell_type": "markdown",
   "metadata": {},
   "source": [
    "* Exceptions = problems in your code \n",
    "    * **SyntaxError** = an error in the typing f the code itself \n",
    "    * **Runtime Errors** = errors that you can add additional code to protect against"
   ]
  },
  {
   "cell_type": "code",
   "execution_count": 4,
   "metadata": {},
   "outputs": [
    {
     "name": "stdout",
     "output_type": "stream",
     "text": [
      "x is 3\n"
     ]
    }
   ],
   "source": [
    "x = int(input(\"Whats x? \"))\n",
    "print(f\"x is {x}\")\n",
    "\n",
    "# But what if the user doesn't input an integer? e.g., a string or a decimal "
   ]
  },
  {
   "cell_type": "markdown",
   "metadata": {},
   "source": [
    "## try & except "
   ]
  },
  {
   "cell_type": "code",
   "execution_count": 5,
   "metadata": {},
   "outputs": [
    {
     "name": "stdout",
     "output_type": "stream",
     "text": [
      "x is not an integer\n"
     ]
    }
   ],
   "source": [
    "try: \n",
    "    x = int(input(\"Whats x? \"))\n",
    "    print(f\"x is {x}\")\n",
    "except ValueError: \n",
    "    print(\"x is not an integer\")"
   ]
  },
  {
   "cell_type": "code",
   "execution_count": 6,
   "metadata": {},
   "outputs": [
    {
     "name": "stdout",
     "output_type": "stream",
     "text": [
      "x is not an integer\n"
     ]
    }
   ],
   "source": [
    "# When using a try function, you should only include the code that causes an error\n",
    "try: \n",
    "    x = int(input(\"Whats x? \"))\n",
    "except ValueError: \n",
    "    x = \"not an integer\"\n",
    "\n",
    "print(f\"x is {x}\")"
   ]
  },
  {
   "cell_type": "markdown",
   "metadata": {},
   "source": [
    "## Else"
   ]
  },
  {
   "cell_type": "code",
   "execution_count": 7,
   "metadata": {},
   "outputs": [
    {
     "name": "stdout",
     "output_type": "stream",
     "text": [
      "x is 3\n"
     ]
    }
   ],
   "source": [
    "try: \n",
    "    x = int(input(\"Whats x? \"))\n",
    "except ValueError: \n",
    "    x = \"not an integer\"\n",
    "# Can use else to specify what happens if there isn't an exception\n",
    "else: \n",
    "    print(f\"x is {x}\")"
   ]
  },
  {
   "cell_type": "code",
   "execution_count": 9,
   "metadata": {},
   "outputs": [
    {
     "name": "stdout",
     "output_type": "stream",
     "text": [
      "x is not an integer\n",
      "x is 5\n"
     ]
    }
   ],
   "source": [
    "# Can use an infinite loop to continue to prompt the user until they input an integer \n",
    "\n",
    "while True: \n",
    "    try: \n",
    "        x = int(input(\"Whats x? \"))\n",
    "    except ValueError: \n",
    "        x = print(\"x is not an integer\")\n",
    "    # Can use else to specify what happens if there isn't an exception\n",
    "    else: \n",
    "        # Breaks the loop once the user inputs an integer \n",
    "        break\n",
    "\n",
    "print(f\"x is {x}\")"
   ]
  },
  {
   "cell_type": "code",
   "execution_count": 11,
   "metadata": {},
   "outputs": [
    {
     "name": "stdout",
     "output_type": "stream",
     "text": [
      "x is 4\n"
     ]
    }
   ],
   "source": [
    "# Define a function that gets an integer from the user \n",
    "def main():\n",
    "    x = get_int()\n",
    "    print(f\"x is {x}\")\n",
    "\n",
    "\n",
    "def get_int():\n",
    "    while True:\n",
    "        try: \n",
    "            return int(input(\"Whats x? \"))\n",
    "        except ValueError: \n",
    "            x = print(\"x is not an integer\")\n",
    "\n",
    "main()"
   ]
  },
  {
   "cell_type": "markdown",
   "metadata": {},
   "source": [
    "## Pass\n",
    "\n",
    "Allows you to ignore the case where there is an error "
   ]
  },
  {
   "cell_type": "code",
   "execution_count": 12,
   "metadata": {},
   "outputs": [
    {
     "name": "stdout",
     "output_type": "stream",
     "text": [
      "x is 4\n"
     ]
    }
   ],
   "source": [
    "def main():\n",
    "    x = get_int()\n",
    "    print(f\"x is {x}\")\n",
    "\n",
    "\n",
    "def get_int():\n",
    "    while True:\n",
    "        try: \n",
    "            return int(input(\"Whats x? \"))\n",
    "        except ValueError: \n",
    "            # Using pass will ignore the error and reprompt the user \n",
    "            pass\n",
    "\n",
    "main()"
   ]
  },
  {
   "cell_type": "markdown",
   "metadata": {},
   "source": [
    "## Function Arguments"
   ]
  },
  {
   "cell_type": "code",
   "execution_count": 3,
   "metadata": {},
   "outputs": [],
   "source": [
    "while True:\n",
    "    date = input(\"Date: \")\n",
    "    try:\n",
    "        split = list(date.split(\" \"))\n",
    "        m = int(split[0])\n",
    "        d = int(split[1].replace(\",\", \"\"))\n",
    "        y = int(split[2])\n",
    "        if m.title() in months and d <= 31 and y >= 0:\n",
    "                print(print(f\"{d}-{m:0>2}-{y:0>2}\"))\n",
    "                break\n",
    "        else:\n",
    "            pass\n",
    "    except ValueError:\n",
    "        pass"
   ]
  },
  {
   "cell_type": "code",
   "execution_count": 5,
   "metadata": {},
   "outputs": [
    {
     "name": "stdout",
     "output_type": "stream",
     "text": [
      "9 8 1636\n"
     ]
    }
   ],
   "source": [
    "months = [\n",
    "    \"January\",\n",
    "    \"February\",\n",
    "    \"March\",\n",
    "    \"April\",\n",
    "    \"May\",\n",
    "    \"June\",\n",
    "    \"July\",\n",
    "    \"August\",\n",
    "    \"September\",\n",
    "    \"October\",\n",
    "    \"November\",\n",
    "    \"December\"\n",
    "]\n",
    "\n",
    "date = input(\"Date: \")\n",
    "split = list(date.split(\" \"))\n",
    "\n",
    "m = months.index(split[0]) + 1\n",
    "d = int(split[1].replace(\",\", \"\"))\n",
    "y = int(split[2])\n",
    "\n",
    "print(m, d, y)"
   ]
  },
  {
   "cell_type": "code",
   "execution_count": 14,
   "metadata": {},
   "outputs": [],
   "source": [
    "date = input(\"Date: \")\n",
    "\n",
    "split = list(date.split(\" \"))\n",
    "\n",
    "m = split[0]\n",
    "d = int(split[1].replace(\",\", \"\"))\n",
    "y = int(split[2])\n",
    "comma = \",\" in split[1]\n",
    "\n",
    "if m.title() in months and d <= 31 and y >= 0 and comma == True:\n",
    "    m = months.index(m) + 1\n",
    "    print(f\"{y}-{m:0>2}-{d:0>2}\")\n"
   ]
  },
  {
   "cell_type": "code",
   "execution_count": 39,
   "metadata": {},
   "outputs": [
    {
     "name": "stdout",
     "output_type": "stream",
     "text": [
      "Total: 3.0\n"
     ]
    }
   ],
   "source": [
    "menu = {\n",
    "    \"Baja Taco\": 4.00,\n",
    "    \"Burrito\": 7.50,\n",
    "    \"Bowl\": 8.50,\n",
    "    \"Nachos\": 11.00,\n",
    "    \"Quesadilla\": 8.50,\n",
    "    \"Super Burrito\": 8.50,\n",
    "    \"Super Quesadilla\": 9.50,\n",
    "    \"Taco\": 3.00,\n",
    "    \"Tortilla Salad\": 8.00\n",
    "}\n",
    "\n",
    "total = 0\n",
    "\n",
    "\n",
    "try:\n",
    "        price = menu[item]\n",
    "        total += price\n",
    "        print(\"Total:\", total)\n",
    "except KeyError:\n",
    "        pass\n",
    "except EOFError: \n",
    "    break"
   ]
  }
 ],
 "metadata": {
  "kernelspec": {
   "display_name": "Python 3",
   "language": "python",
   "name": "python3"
  },
  "language_info": {
   "codemirror_mode": {
    "name": "ipython",
    "version": 3
   },
   "file_extension": ".py",
   "mimetype": "text/x-python",
   "name": "python",
   "nbconvert_exporter": "python",
   "pygments_lexer": "ipython3",
   "version": "3.11.4"
  },
  "orig_nbformat": 4
 },
 "nbformat": 4,
 "nbformat_minor": 2
}
